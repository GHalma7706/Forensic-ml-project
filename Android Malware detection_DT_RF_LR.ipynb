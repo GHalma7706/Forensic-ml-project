{
 "cells": [
  {
   "cell_type": "code",
   "execution_count": 27,
   "id": "6a5fee8b-0006-4208-a155-140858a02b39",
   "metadata": {},
   "outputs": [],
   "source": [
    "import pandas as pd\n",
    "import numpy as np\n",
    "from sklearn.metrics import classification_report, accuracy_score\n",
    "from sklearn.model_selection import train_test_split, GridSearchCV\n",
    "from sklearn.metrics import confusion_matrix\n",
    "import matplotlib.pyplot as plt\n",
    "import seaborn as sns\n",
    "import os\n",
    "import pandas as pd\n",
    "from catboost import CatBoostClassifier"
   ]
  },
  {
   "cell_type": "code",
   "execution_count": 29,
   "id": "f824df4f-2030-40a6-b8c9-b97fa501f464",
   "metadata": {},
   "outputs": [
    {
     "name": "stdout",
     "output_type": "stream",
     "text": [
      "Adware-All.csv\n",
      "(424147, 85)\n",
      "1\n",
      "Benign-All.csv\n",
      "(1205515, 85)\n",
      "2\n",
      "Ransomware-All.csv\n",
      "(348943, 85)\n",
      "3\n",
      "Scareware-All.csv\n",
      "(400841, 85)\n",
      "4\n",
      "SMSmalware-All.csv\n",
      "(237133, 85)\n",
      "5\n",
      "concating\n",
      "                                       Flow ID      Source IP   Source Port  \\\n",
      "0        172.217.0.238-10.42.0.211-443-54819-6    10.42.0.211       54819.0   \n",
      "1        172.217.1.170-10.42.0.211-443-51023-6    10.42.0.211       51023.0   \n",
      "2        172.217.2.110-10.42.0.211-443-39805-6    10.42.0.211       39805.0   \n",
      "3        172.217.2.110-10.42.0.211-443-39805-6    10.42.0.211       39805.0   \n",
      "4        172.217.0.238-10.42.0.211-443-36040-6  172.217.0.238         443.0   \n",
      "...                                        ...            ...           ...   \n",
      "249995       10.42.0.211-10.42.0.1-25739-53-17    10.42.0.211       25739.0   \n",
      "249996       10.42.0.211-10.42.0.1-10574-53-17    10.42.0.211       10574.0   \n",
      "249997  172.217.12.136-10.42.0.211-443-52231-6    10.42.0.211       52231.0   \n",
      "249998       10.42.0.211-10.42.0.1-56196-53-17    10.42.0.211       56196.0   \n",
      "249999       10.42.0.211-10.42.0.1-21158-53-17    10.42.0.211       21158.0   \n",
      "\n",
      "        Destination IP   Destination Port   Protocol            Timestamp  \\\n",
      "0        172.217.0.238              443.0        6.0  14/06/2017 04:22:52   \n",
      "1        172.217.1.170              443.0        6.0  14/06/2017 04:22:52   \n",
      "2        172.217.2.110              443.0        6.0  14/06/2017 04:22:58   \n",
      "3        172.217.2.110              443.0        6.0  14/06/2017 04:22:58   \n",
      "4          10.42.0.211            36040.0        6.0  14/06/2017 04:22:59   \n",
      "...                ...                ...        ...                  ...   \n",
      "249995       10.42.0.1               53.0       17.0  11/07/2017 10:31:16   \n",
      "249996       10.42.0.1               53.0       17.0  11/07/2017 10:46:41   \n",
      "249997  172.217.12.136              443.0        6.0  11/07/2017 10:27:04   \n",
      "249998       10.42.0.1               53.0       17.0  11/07/2017 10:09:30   \n",
      "249999       10.42.0.1               53.0       17.0  11/07/2017 10:21:10   \n",
      "\n",
      "         Flow Duration   Total Fwd Packets   Total Backward Packets  ...  \\\n",
      "0                194.0                 2.0                      0.0  ...   \n",
      "1                  5.0                 2.0                      0.0  ...   \n",
      "2             199542.0                 9.0                      8.0  ...   \n",
      "3                254.0                 2.0                      0.0  ...   \n",
      "4            2164751.0                 1.0                      3.0  ...   \n",
      "...                ...                 ...                      ...  ...   \n",
      "249995         31795.0                 1.0                      1.0  ...   \n",
      "249996         31826.0                 1.0                      1.0  ...   \n",
      "249997        183536.0                 2.0                      0.0  ...   \n",
      "249998         76207.0                 1.0                      1.0  ...   \n",
      "249999          1464.0                 1.0                      1.0  ...   \n",
      "\n",
      "         min_seg_size_forward  Active Mean   Active Std   Active Max  \\\n",
      "0                        32.0          0.0          0.0          0.0   \n",
      "1                        32.0          0.0          0.0          0.0   \n",
      "2                        32.0          0.0          0.0          0.0   \n",
      "3                        32.0          0.0          0.0          0.0   \n",
      "4                        32.0          0.0          0.0          0.0   \n",
      "...                       ...          ...          ...          ...   \n",
      "249995                   32.0          0.0          0.0          0.0   \n",
      "249996                   32.0          0.0          0.0          0.0   \n",
      "249997                   32.0          0.0          0.0          0.0   \n",
      "249998                   20.0          0.0          0.0          0.0   \n",
      "249999                   32.0          0.0          0.0          0.0   \n",
      "\n",
      "         Active Min  Idle Mean   Idle Std   Idle Max   Idle Min  \\\n",
      "0               0.0        0.0        0.0        0.0        0.0   \n",
      "1               0.0        0.0        0.0        0.0        0.0   \n",
      "2               0.0        0.0        0.0        0.0        0.0   \n",
      "3               0.0        0.0        0.0        0.0        0.0   \n",
      "4               0.0        0.0        0.0        0.0        0.0   \n",
      "...             ...        ...        ...        ...        ...   \n",
      "249995          0.0        0.0        0.0        0.0        0.0   \n",
      "249996          0.0        0.0        0.0        0.0        0.0   \n",
      "249997          0.0        0.0        0.0        0.0        0.0   \n",
      "249998          0.0        0.0        0.0        0.0        0.0   \n",
      "249999          0.0        0.0        0.0        0.0        0.0   \n",
      "\n",
      "                      Label  \n",
      "0             ADWARE_DOWGIN  \n",
      "1             ADWARE_DOWGIN  \n",
      "2             ADWARE_DOWGIN  \n",
      "3             ADWARE_DOWGIN  \n",
      "4             ADWARE_DOWGIN  \n",
      "...                     ...  \n",
      "249995  SMSMALWARE_PLANKTON  \n",
      "249996  SMSMALWARE_PLANKTON  \n",
      "249997  SMSMALWARE_PLANKTON  \n",
      "249998  SMSMALWARE_PLANKTON  \n",
      "249999  SMSMALWARE_PLANKTON  \n",
      "\n",
      "[250000 rows x 85 columns]\n"
     ]
    }
   ],
   "source": [
    "# Path to the folder containing CSV files\n",
    "folder_path = 'CIC2017'\n",
    "\n",
    "# List to hold DataFrames\n",
    "dfs = []\n",
    "\n",
    "# Loop through all files in the folder\n",
    "for file in os.listdir(folder_path):\n",
    "    print(file)\n",
    "    if file.endswith('.csv'):\n",
    "        file_path = os.path.join(folder_path, file)\n",
    "        # Read the CSV file into a DataFrame and append it to the list\n",
    "        df = pd.read_csv(file_path, low_memory=False)\n",
    "        \n",
    "        print(df.shape)\n",
    "        #if file=='Ransomware-All.csv':\n",
    "        #    continue\n",
    "        dfs.append(df.iloc[:50000])\n",
    "        print(len(dfs))\n",
    "\n",
    "# Concatenate all DataFrames into a single DataFrame\n",
    "print('concating')\n",
    "df = pd.concat(dfs, ignore_index=True)\n",
    "\n",
    "# Optionally, you can save the concatenated DataFrame to a new CSV file\n",
    "#final_df.to_csv('combined_output.csv', index=False)\n",
    "\n",
    "# Display the final DataFrame\n",
    "print(df)\n"
   ]
  },
  {
   "cell_type": "code",
   "execution_count": 31,
   "id": "07211a82-2491-4e92-bc20-62b96b763c1c",
   "metadata": {},
   "outputs": [
    {
     "data": {
      "text/plain": [
       "{'ADWARE_DOWGIN',\n",
       " 'ADWARE_EWIND',\n",
       " 'BENIGN',\n",
       " 'RANSOMWARE_CHARGER',\n",
       " 'RANSOMWARE_SIMPLOCKER',\n",
       " 'RANSOMWARE_SVPENG',\n",
       " 'RANSOMWARE_WANNALOCKER',\n",
       " 'SCAREWARE_ANDROIDDEFENDER',\n",
       " 'SCAREWARE_AVFORANDROID',\n",
       " 'SCAREWARE_AVPASS',\n",
       " 'SCAREWARE_FAKETAOBAO',\n",
       " 'SCAREWARE_VIRUSSHIELD',\n",
       " 'SMSMALWARE_FAKEMART',\n",
       " 'SMSMALWARE_NANDROBOX',\n",
       " 'SMSMALWARE_PLANKTON',\n",
       " 'SMSMALWARE_SMSSNIFFER',\n",
       " nan}"
      ]
     },
     "execution_count": 31,
     "metadata": {},
     "output_type": "execute_result"
    }
   ],
   "source": [
    "set(df[' Label'].values)"
   ]
  },
  {
   "cell_type": "code",
   "execution_count": 47,
   "id": "707cbc72-6f75-487e-9820-15ba961ee938",
   "metadata": {},
   "outputs": [
    {
     "data": {
      "image/png": "[encoded data removed]",
      "text/plain": [
       "<Figure size 640x480 with 1 Axes>"
      ]
     },
     "metadata": {},
     "output_type": "display_data"
    }
   ],
   "source": [
    "import matplotlib.pyplot as plt\n",
    "import seaborn as sns\n",
    "\n",
    "sns.countplot(x=' Label', data=df)  # Replace 'class_column' with the label column\n",
    "plt.title('Class Distribution')\n",
    "plt.xticks(rotation=90)\n",
    "plt.show()\n"
   ]
  },
  {
   "cell_type": "code",
   "execution_count": 49,
   "id": "1b8cd0ed-e1d6-4259-a71d-1083c9f1ac40",
   "metadata": {},
   "outputs": [
    {
     "data": {
      "text/plain": [
       "(250000, 85)"
      ]
     },
     "execution_count": 49,
     "metadata": {},
     "output_type": "execute_result"
    }
   ],
   "source": [
    "df.shape"
   ]
  },
  {
   "cell_type": "code",
   "execution_count": 51,
   "id": "cd0fe2cb-d7b6-4bb6-8bb7-94a2aac64bce",
   "metadata": {},
   "outputs": [],
   "source": [
    "#we will keep only the general categories here\n",
    "df['Label'] = df[' Label'].str.split('_').str[0]\n",
    "#df['Label'] = df['Label'].apply(lambda x: 0 if x == 'BENIGN' else 1)"
   ]
  },
  {
   "cell_type": "code",
   "execution_count": 53,
   "id": "a0d5e96e-f2b4-4621-9e43-eaac3b0cfd26",
   "metadata": {},
   "outputs": [
    {
     "data": {
      "image/png": "[encoded data removed]",
      "text/plain": [
       "<Figure size 640x480 with 1 Axes>"
      ]
     },
     "metadata": {},
     "output_type": "display_data"
    }
   ],
   "source": [
    "import matplotlib.pyplot as plt\n",
    "import seaborn as sns\n",
    "\n",
    "sns.countplot(x='Label', data=df)  # Replace 'class_column' with the label column\n",
    "plt.title('Class Distribution')\n",
    "plt.xticks(rotation=90)\n",
    "plt.show()\n"
   ]
  },
  {
   "cell_type": "code",
   "execution_count": null,
   "id": "5b9f7659-fd2d-4f67-a892-0078e058dd88",
   "metadata": {},
   "outputs": [],
   "source": [
    "df.isnull().sum()"
   ]
  },
  {
   "cell_type": "code",
   "execution_count": null,
   "id": "02e51122-5cf6-48b1-b1e1-82b9ee33403e",
   "metadata": {},
   "outputs": [],
   "source": [
    "#data preprocessing\n",
    "df = df.sample(frac=1, random_state=42).reset_index(drop=True)\n",
    "df.replace([np.inf, -np.inf], np.nan, inplace=True)\n",
    "df = df.dropna()\n",
    "df = df.drop_duplicates(keep='first')"
   ]
  },
  {
   "cell_type": "code",
   "execution_count": null,
   "id": "c13d169b-ae8b-4821-bbf3-1b0d7d4d9c86",
   "metadata": {},
   "outputs": [],
   "source": [
    "df.isnull().sum()"
   ]
  },
  {
   "cell_type": "code",
   "execution_count": null,
   "id": "2ae34bca-fe7b-4a0d-8dc2-74df87256eb5",
   "metadata": {},
   "outputs": [],
   "source": [
    "df.shape"
   ]
  },
  {
   "cell_type": "code",
   "execution_count": null,
   "id": "157f68cf-d74f-491e-80c2-2462e9692dd8",
   "metadata": {},
   "outputs": [],
   "source": [
    "np.unique(df['Label'])"
   ]
  },
  {
   "cell_type": "code",
   "execution_count": null,
   "id": "975ce8b6-b7d4-47fe-81d9-d3ed57aea002",
   "metadata": {},
   "outputs": [],
   "source": [
    "df.describe()"
   ]
  },
  {
   "cell_type": "code",
   "execution_count": null,
   "id": "5d7d3027-4e42-4800-9784-2fcd960e6a20",
   "metadata": {},
   "outputs": [],
   "source": [
    "import matplotlib.pyplot as plt\n",
    "import seaborn as sns\n",
    "\n",
    "sns.countplot(x='Label', data=df)  # Replace 'class_column' with the label column\n",
    "plt.title('Class Distribution')\n",
    "plt.xticks(rotation=90)\n",
    "plt.show()\n"
   ]
  },
  {
   "cell_type": "code",
   "execution_count": null,
   "id": "2a3174f2-c21a-4849-b0a5-598348d4a0b8",
   "metadata": {},
   "outputs": [],
   "source": [
    "# Check the distribution of malware labels (if present)\n",
    "if 'Label' in df.columns:\n",
    "    print(df['Label'].value_counts())"
   ]
  },
  {
   "cell_type": "code",
   "execution_count": null,
   "id": "f2e6a226",
   "metadata": {},
   "outputs": [],
   "source": [
    "#df.to_excel('bot_attacks.xlsx', index=False) "
   ]
  },
  {
   "cell_type": "code",
   "execution_count": null,
   "id": "bc35e257-d273-4c53-94cb-aef4e8cf164e",
   "metadata": {},
   "outputs": [],
   "source": [
    "print(df.columns)\n"
   ]
  },
  {
   "cell_type": "code",
   "execution_count": null,
   "id": "8c84c086-934f-4a7b-bc6b-6d897bac3c2f",
   "metadata": {},
   "outputs": [],
   "source": [
    "# Filter the data to focus on apps with potentially harmful permissions\n",
    "#'MODIFY_PHONE_STATE','SEND_SMS', 'WRITE_EXTERNAL_STORAGE', 'CAMERA', 'RECORD_AUDIO', 'ACCESS_FINE_LOCATION'\n",
    "#malicious_permissions = [Bwd Packet Length Min ]\n",
    "malicious_apps = df[df[' Source Port']>60000]['Label']\n",
    "\n",
    "# Show how many apps have these permissions\n",
    "#print(f\"Number of apps with potentially malicious behavior: {(malicious_apps)}\")\n",
    "# Count class distribution\n",
    "class_distribution = malicious_apps.value_counts()\n",
    "\n",
    "# Display the distribution\n",
    "print(class_distribution)\n",
    "\n"
   ]
  },
  {
   "cell_type": "code",
   "execution_count": null,
   "id": "9d9dd585-4957-491a-b044-2dba46a04003",
   "metadata": {},
   "outputs": [],
   "source": [
    "grouped_data = df.groupby(' Source IP').agg({\n",
    "    'Flow Bytes/s': ['mean', 'std'],\n",
    "    ' Flow Packets/s': ['mean', 'std'],\n",
    "    ' Total Fwd Packets': 'sum',\n",
    "    ' Total Backward Packets': 'sum',\n",
    "    # Add other features as needed\n",
    "}).reset_index()\n",
    "\n",
    "# Rename columns for readability\n",
    "grouped_data.columns = ['_'.join(col).strip() for col in grouped_data.columns.values]\n"
   ]
  },
  {
   "cell_type": "code",
   "execution_count": null,
   "id": "2dfe5721-4601-44cc-9844-afce05763ea9",
   "metadata": {},
   "outputs": [],
   "source": [
    "# Group data by Source IP and aggregate relevant features along with labels\n",
    "grouped_data = df.groupby(' Source IP').agg({\n",
    "    'Flow Bytes/s': ['mean', 'std'],\n",
    "    ' Flow Packets/s': ['mean', 'std'],\n",
    "    ' Total Fwd Packets': 'sum',\n",
    "    ' Total Backward Packets': 'sum',\n",
    "    'Label': ['count', lambda x: (x != 'BENIGN').sum(), lambda x: (x != 'BENIGN').mean()]\n",
    "}).reset_index()\n",
    "\n",
    "# Rename columns for better readability\n",
    "grouped_data.columns = [\n",
    "    ' Source IP', \n",
    "    'Flow Bytes/s Mean', 'Flow Bytes/s Std',\n",
    "    ' Flow Packets/s Mean', 'Flow Packets/s Std',\n",
    "    ' Total Fwd Packets', 'Total Backward Packets',\n",
    "    ' Total Flows', 'Malicious Flows Count', 'Malicious Flows Percentage'\n",
    "]\n",
    "\n",
    "# Display the resulting DataFrame\n",
    "filtered_data = grouped_data[\n",
    "    (grouped_data['Flow Packets/s Std'].notna()) &  # Check for non-NaN values\n",
    "    (grouped_data['Flow Packets/s Std'] >= 1000)   # Check for values >= 1000\n",
    "]\n",
    "\n",
    "# Display the filtered results\n",
    "filtered_data.head(n=50)\n"
   ]
  },
  {
   "cell_type": "code",
   "execution_count": null,
   "id": "b2b050b9-d2cc-48b0-a642-a1fee2839153",
   "metadata": {},
   "outputs": [],
   "source": [
    "grouped_data.head()"
   ]
  },
  {
   "cell_type": "code",
   "execution_count": null,
   "id": "92822b8f-9c56-4ab6-a777-1379d5051ef5",
   "metadata": {},
   "outputs": [],
   "source": [
    "# Group data by Source IP and aggregate relevant features along with labels\n",
    "grouped_data_time = df.groupby(' Timestamp').agg({\n",
    "    'Flow Bytes/s': ['mean', 'std'],\n",
    "    ' Flow Packets/s': ['mean', 'std'],\n",
    "    ' Total Fwd Packets': 'sum',\n",
    "    ' Total Backward Packets': 'sum',\n",
    "    'Label': ['count', lambda x: (x != 'BENIGN').sum(), lambda x: (x != 'BENIGN').mean()]\n",
    "}).reset_index()\n",
    "\n",
    "# Rename columns for better readability\n",
    "grouped_data_time.columns = [\n",
    "    ' Timestamp', \n",
    "    'Flow Bytes/s Mean', 'Flow Bytes/s Std',\n",
    "    ' Flow Packets/s Mean', 'Flow Packets/s Std',\n",
    "    ' Total Fwd Packets', 'Total Backward Packets',\n",
    "    ' Total Flows', 'Malicious Flows Count', 'Malicious Flows Percentage'\n",
    "]\n",
    "\n",
    "\n",
    "\n"
   ]
  },
  {
   "cell_type": "code",
   "execution_count": null,
   "id": "ee53fcd3-52d0-4b01-8338-6f0a6a8fb422",
   "metadata": {},
   "outputs": [],
   "source": [
    "# Filter rows where 'Malicious Flows Percentage' is 0 and 'Malicious Flows Count' > 10\n",
    "filtered_data = grouped_data_time[\n",
    "    (grouped_data_time['Malicious Flows Percentage'] == 1.0) & \n",
    "    (grouped_data_time['Malicious Flows Count'] > 10)\n",
    "]\n",
    "\n",
    "# Display the filtered DataFrame\n",
    "filtered_data.head(n=50)\n"
   ]
  },
  {
   "cell_type": "code",
   "execution_count": null,
   "id": "9c82b4e2-7197-4b70-8ddd-94bfdc9311f8",
   "metadata": {},
   "outputs": [],
   "source": [
    "# Filter rows where 'Malicious Flows Percentage' is 0\n",
    "filtered_data = grouped_data_time[grouped_data_time['Malicious Flows Percentage'] == 0]\n",
    "\n",
    "# Display the filtered DataFrame\n",
    "filtered_data.head(n=50)"
   ]
  },
  {
   "cell_type": "code",
   "execution_count": null,
   "id": "591739b1-780f-452d-ad1a-acf88c0577c7",
   "metadata": {},
   "outputs": [],
   "source": [
    "# Check the distribution of malware labels (if present)\n",
    "if 'Label' in df.columns:\n",
    "    print(df['Label'].value_counts())\n"
   ]
  },
  {
   "cell_type": "code",
   "execution_count": null,
   "id": "dc52ab60-bd1f-4a5c-ae87-d0763da3681c",
   "metadata": {},
   "outputs": [],
   "source": [
    "# Initialize and train CatBoostClassifier\n",
    "X =  df.drop(columns=['Label',' Label',' Flow IAT Min',' Packet Length Std',' CWE Flag Count',' Down/Up Ratio','Fwd Avg Bytes/Bulk'])  # Replace with your feature columns\n",
    "y = df['Label']   # Replace with your target column\n"
   ]
  },
  {
   "cell_type": "code",
   "execution_count": null,
   "id": "07bf34d3-0258-4d5e-ae4b-66c24ed2caca",
   "metadata": {},
   "outputs": [],
   "source": [
    "from sklearn.preprocessing import LabelEncoder\n",
    "# Select only the numerical columns from the DataFrame\n",
    "\n",
    "# Assuming df is your dataframe\n",
    "label_encoder = LabelEncoder()\n",
    "\n",
    "# Apply label encoding to each categorical column\n",
    "for col in X.columns:\n",
    "    if X[col].dtype == 'object' or X[col].dtype.name == 'string':\n",
    "        X[col] = X[col].astype(str)\n",
    "        X[col] = label_encoder.fit_transform(X[col])\n",
    "y = df['Label']  # The target column 'Label'\n",
    "\n",
    "# Split the data into training and testing sets\n",
    "X_train, X_test, y_train, y_test = train_test_split(X, y, test_size=0.2, random_state=42)\n",
    "\n"
   ]
  },
  {
   "cell_type": "code",
   "execution_count": null,
   "id": "b15a55e3",
   "metadata": {},
   "outputs": [],
   "source": [
    "def create_feature_importance(model,model_name=\"Decision Tree\"):\n",
    "    model.fit(X, y)\n",
    "    # Get feature importance\n",
    "    if model_name == \"Logistic Regression\":\n",
    "        feature_importance =  model.coef_[0]\n",
    "    else:\n",
    "        feature_importance = model.feature_importances_\n",
    "\n",
    "    # Create a DataFrame to store feature names and their corresponding importance\n",
    "    feature_importance_df = pd.DataFrame({\n",
    "        'Feature': X.columns,\n",
    "        'Importance': feature_importance\n",
    "    })\n",
    "\n",
    "    # Sort the DataFrame by importance in descending order\n",
    "    feature_importance_df = feature_importance_df.sort_values(by='Importance', ascending=False)\n",
    "\n",
    "    # Plot top 10 most important features\n",
    "    top_10_features = feature_importance_df.head(10)\n",
    "\n",
    "    plt.figure(figsize=(10, 6))\n",
    "    plt.barh(top_10_features['Feature'], top_10_features['Importance'], color='skyblue')\n",
    "    plt.xlabel('Feature Importance')\n",
    "    plt.title('Top 10 Feature Importance for '+model_name)\n",
    "    plt.gca().invert_yaxis()  # To display the highest importance at the top\n",
    "    plt.savefig('top_10_features_'+model_name+'.png', bbox_inches='tight')  # Save the figure\n",
    "    plt.show()\n",
    "    return top_10_features\n",
    "def plot_conf_matrix(y_test, y_pred,model_name=\"Decision Tree\"):\n",
    "    # Plot confusion matrix\n",
    "    cm = confusion_matrix(y_test, y_pred)\n",
    "    classes=list(set(y_test))\n",
    "    plt.figure(figsize=(8, 6))\n",
    "    sns.heatmap(cm, annot=True, fmt=\"d\", cmap=\"Blues\", xticklabels=classes, yticklabels=classes)\n",
    "\n",
    "    plt.xlabel('Predicted')\n",
    "    plt.ylabel('True')\n",
    "    plt.title('Confusion Matrix for '+model_name)\n",
    "    plt.savefig('ConfusionMatrix_'+model_name+'.png', bbox_inches='tight')  # Save the figure\n",
    "    plt.show()\n",
    "\n"
   ]
  },
  {
   "cell_type": "code",
   "execution_count": null,
   "id": "6b62752f",
   "metadata": {},
   "outputs": [],
   "source": [
    "from sklearn.tree import DecisionTreeClassifier\n",
    "# Create a Decision Tree model\n",
    "model = DecisionTreeClassifier(max_depth=4,random_state=0)\n",
    "top_10 = create_feature_importance(model,model_name=\"Decision Tree\")\n",
    "top_10 = top_10['Feature'].values\n",
    "X_train_dt = X_train[top_10]\n",
    "X_test_dt = X_test[top_10]"
   ]
  },
  {
   "cell_type": "code",
   "execution_count": null,
   "id": "5aa5623e",
   "metadata": {},
   "outputs": [],
   "source": [
    "\n",
    "import time\n",
    "from datetime import timedelta\n",
    "\n",
    "# Start timer for training\n",
    "time1 = time.time()\n",
    "\n",
    "# Train the model\n",
    "model.fit(X_train_dt, y_train)\n",
    "\n",
    "# Stop timer after training\n",
    "time2 = time.time()\n",
    "\n",
    "# Make predictions\n",
    "y_pred = model.predict(X_test_dt)\n",
    "\n",
    "# Stop timer after testing\n",
    "time3 = time.time()\n",
    "\n",
    "# Calculate training and testing times\n",
    "train_time = time2 - time1\n",
    "test_time = time3 - time2\n",
    "\n",
    "# Output the time taken for training and testing\n",
    "print(\"Train time:\", str(timedelta(seconds=train_time)))\n",
    "print(\"Test time:\", str(timedelta(seconds=test_time)))\n"
   ]
  },
  {
   "cell_type": "code",
   "execution_count": null,
   "id": "5e07971b",
   "metadata": {},
   "outputs": [],
   "source": [
    "from sklearn.metrics import accuracy_score, precision_score, recall_score, f1_score\n",
    "\n",
    "\n",
    "# Calculate Accuracy, Precision, Recall, and F1-Score\n",
    "accuracy = accuracy_score(y_test, y_pred)\n",
    "precision = precision_score(y_test, y_pred,average='macro')\n",
    "recall = recall_score(y_test, y_pred,average='macro')\n",
    "f1 = f1_score(y_test, y_pred,average='macro')\n",
    "\n",
    "# Display the results\n",
    "print(f\" DT Accuracy: {accuracy:.4f}\")\n",
    "print(f\"DT Precision: {precision:.4f}\")\n",
    "print(f\"DT Recall: {recall:.4f}\")\n",
    "print(f\"DT F1-Score: {f1:.4f}\")\n"
   ]
  },
  {
   "cell_type": "code",
   "execution_count": null,
   "id": "415a0ac5",
   "metadata": {},
   "outputs": [],
   "source": [
    "plot_conf_matrix(y_test, y_pred,model_name=\"Decision Tree\")"
   ]
  },
  {
   "cell_type": "code",
   "execution_count": null,
   "id": "92df726f",
   "metadata": {},
   "outputs": [],
   "source": [
    "from sklearn.ensemble import RandomForestClassifier\n",
    "# Create a Decision Tree model\n",
    "model = RandomForestClassifier(n_estimators=100, max_depth=6, random_state=42)\n",
    "top_10 = create_feature_importance(model,model_name=\"Random Forest\")\n",
    "top_10 = top_10['Feature'].values\n"
   ]
  },
  {
   "cell_type": "code",
   "execution_count": null,
   "id": "68977edd",
   "metadata": {},
   "outputs": [],
   "source": [
    "\n",
    "import time\n",
    "from datetime import timedelta\n",
    "\n",
    "# Create a Random Forest model \n",
    "\n",
    "X_train_rf = X_train[top_10]\n",
    "X_test_rf = X_test[top_10]\n",
    "\n",
    "\n",
    "# Start timer for training\n",
    "time1 = time.time()\n",
    "\n",
    "\n",
    "# Train the model\n",
    "model.fit(X_train_rf, y_train)\n",
    "\n",
    "# Stop timer after training\n",
    "time2 = time.time()\n",
    "\n",
    "# Make predictions\n",
    "y_pred = model.predict(X_test_rf)\n",
    "\n",
    "# Stop timer after testing\n",
    "time3 = time.time()\n",
    "\n",
    "# Calculate training and testing times\n",
    "train_time = time2 - time1\n",
    "test_time = time3 - time2\n",
    "\n",
    "# Output the time taken for training and testing\n",
    "print(\"train time is \", str(timedelta(seconds=train_time)))\n",
    "print(\"test time is \", str(timedelta(seconds=test_time)))\n"
   ]
  },
  {
   "cell_type": "code",
   "execution_count": null,
   "id": "085394a6",
   "metadata": {},
   "outputs": [],
   "source": []
  },
  {
   "cell_type": "code",
   "execution_count": null,
   "id": "dfbc7767",
   "metadata": {},
   "outputs": [],
   "source": [
    "from sklearn.metrics import accuracy_score, precision_score, recall_score, f1_score\n",
    "\n",
    "\n",
    "# Calculate Accuracy, Precision, Recall, and F1-Score\n",
    "accuracy = accuracy_score(y_test, y_pred)\n",
    "precision = precision_score(y_test, y_pred,average='macro')\n",
    "recall = recall_score(y_test, y_pred,average='macro')\n",
    "f1 = f1_score(y_test, y_pred,average='macro')\n",
    "\n",
    "# Display the results\n",
    "print(f\" RF Accuracy: {accuracy:.4f}\")\n",
    "print(f\"RF Precision: {precision:.4f}\")\n",
    "print(f\"RF Recall: {recall:.4f}\")\n",
    "print(f\"RF F1-Score: {f1:.4f}\")\n"
   ]
  },
  {
   "cell_type": "code",
   "execution_count": null,
   "id": "780a22ac",
   "metadata": {},
   "outputs": [],
   "source": [
    "plot_conf_matrix(y_test, y_pred,model_name=\"Random Forest\")"
   ]
  },
  {
   "cell_type": "code",
   "execution_count": null,
   "id": "0e61a0c3",
   "metadata": {},
   "outputs": [],
   "source": [
    "from sklearn.linear_model import LogisticRegression\n",
    "import time\n",
    "from datetime import timedelta\n",
    "\n",
    "# Create a Logistic Regression model \n",
    "\n",
    "model = LogisticRegression(max_iter=200, random_state=42)\n",
    "\n",
    "top_10 = create_feature_importance(model,model_name=\"Logistic Regression\")\n",
    "top_10 = top_10['Feature'].values\n",
    "X_train_lr = X_train[top_10]\n",
    "X_test_lr = X_test[top_10]\n",
    "\n",
    "# Start timer for training\n",
    "time1 = time.time()\n",
    "\n",
    "\n",
    "\n",
    "# Train the model\n",
    "model.fit(X_train_lr, y_train)\n",
    "\n",
    "# Stop timer after training\n",
    "time2 = time.time()\n",
    "\n",
    "# Make predictions\n",
    "y_pred = model.predict(X_test_lr)\n",
    "\n",
    "# Stop timer after testing\n",
    "time3 = time.time()\n",
    "\n",
    "# Calculate training and testing times\n",
    "train_time = time2 - time1\n",
    "test_time = time3 - time2\n",
    "\n",
    "# Output the time taken for training and testing\n",
    "print(\"train time is \", str(timedelta(seconds=train_time)))\n",
    "print(\"test time is \", str(timedelta(seconds=test_time)))\n"
   ]
  },
  {
   "cell_type": "code",
   "execution_count": null,
   "id": "a12d6090",
   "metadata": {},
   "outputs": [],
   "source": []
  },
  {
   "cell_type": "code",
   "execution_count": null,
   "id": "4e0f7432",
   "metadata": {},
   "outputs": [],
   "source": [
    "from sklearn.metrics import accuracy_score, precision_score, recall_score, f1_score\n",
    "\n",
    "\n",
    "# Calculate Accuracy, Precision, Recall, and F1-Score\n",
    "accuracy = accuracy_score(y_test, y_pred)\n",
    "precision = precision_score(y_test, y_pred,average='macro')\n",
    "recall = recall_score(y_test, y_pred,average='macro')\n",
    "f1 = f1_score(y_test, y_pred,average='macro')\n",
    "\n",
    "# Display the results\n",
    "print(f\" LR Accuracy: {accuracy:.4f}\")\n",
    "print(f\"LR Precision: {precision:.4f}\")\n",
    "print(f\"LR Recall: {recall:.4f}\")\n",
    "print(f\"LR F1-Score: {f1:.4f}\")\n"
   ]
  },
  {
   "cell_type": "code",
   "execution_count": null,
   "id": "203568ad-dbba-4de3-871f-c7a75fc9df8e",
   "metadata": {},
   "outputs": [],
   "source": [
    "plot_conf_matrix(y_test, y_pred,model_name=\"Logistic Regression\")"
   ]
  },
  {
   "cell_type": "code",
   "execution_count": null,
   "id": "86e8c885",
   "metadata": {},
   "outputs": [],
   "source": []
  }
 ],
 "metadata": {
  "kernelspec": {
   "display_name": "Python [conda env:base] *",
   "language": "python",
   "name": "conda-base-py"
  },
  "language_info": {
   "codemirror_mode": {
    "name": "ipython",
    "version": 3
   },
   "file_extension": ".py",
   "mimetype": "text/x-python",
   "name": "python",
   "nbconvert_exporter": "python",
   "pygments_lexer": "ipython3",
   "version": "3.12.7"
  }
 },
 "nbformat": 4,
 "nbformat_minor": 5
}
