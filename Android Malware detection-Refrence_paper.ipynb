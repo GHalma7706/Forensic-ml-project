{
 "cells": [
  {
   "cell_type": "code",
   "execution_count": 1,
   "id": "6a5fee8b-0006-4208-a155-140858a02b39",
   "metadata": {},
   "outputs": [],
   "source": [
    "import pandas as pd\n",
    "import numpy as np\n",
    "from sklearn.metrics import classification_report, accuracy_score\n",
    "from sklearn.model_selection import train_test_split, GridSearchCV\n",
    "from sklearn.metrics import confusion_matrix\n",
    "import matplotlib.pyplot as plt\n",
    "import seaborn as sns\n",
    "import os\n",
    "import pandas as pd\n",
    "from catboost import CatBoostClassifier"
   ]
  },
  {
   "cell_type": "code",
   "execution_count": 2,
   "id": "f824df4f-2030-40a6-b8c9-b97fa501f464",
   "metadata": {},
   "outputs": [],
   "source": [
    "# Path to the folder containing CSV files\n",
    "folder_path = 'CIC2017'\n",
    "'''\n",
    "# List to hold DataFrames\n",
    "dfs = []\n",
    "\n",
    "# Loop through all files in the folder\n",
    "for file in os.listdir(folder_path):\n",
    "    print(file)\n",
    "    if file.endswith('.csv'):\n",
    "        file_path = os.path.join(folder_path, file)\n",
    "        # Read the CSV file into a DataFrame and append it to the list\n",
    "        df = pd.read_csv(file_path, low_memory=False)\n",
    "        \n",
    "        print(df.shape)\n",
    "        #if file=='Ransomware-All.csv':\n",
    "        #    continue\n",
    "        dfs.append(df.iloc[:50000])\n",
    "        print(len(dfs))\n",
    "\n",
    "# Concatenate all DataFrames into a single DataFrame\n",
    "print('concating')\n",
    "'''\n",
    "#df = pd.read_csv(, ignore_index=True)\n",
    "df = pd.read_csv(\"Phishing_Legitimate_full.csv\", low_memory=False)\n"
   ]
  },
  {
   "cell_type": "code",
   "execution_count": 3,
   "id": "07211a82-2491-4e92-bc20-62b96b763c1c",
   "metadata": {},
   "outputs": [
    {
     "data": {
      "text/plain": [
       "{0, 1}"
      ]
     },
     "execution_count": 3,
     "metadata": {},
     "output_type": "execute_result"
    }
   ],
   "source": [
    "set(df['CLASS_LABEL'].values)"
   ]
  },
  {
   "cell_type": "code",
   "execution_count": 4,
   "id": "707cbc72-6f75-487e-9820-15ba961ee938",
   "metadata": {},
   "outputs": [
    {
     "data": {
      "image/png": "[encoded data removed]",
      "text/plain": [
       "<Figure size 640x480 with 1 Axes>"
      ]
     },
     "metadata": {},
     "output_type": "display_data"
    }
   ],
   "source": [
    "import matplotlib.pyplot as plt\n",
    "import seaborn as sns\n",
    "\n",
    "sns.countplot(x='CLASS_LABEL', data=df)  # Replace 'class_column' with the label column\n",
    "plt.title('Class Distribution')\n",
    "plt.xticks(rotation=90)\n",
    "plt.show()\n"
   ]
  },
  {
   "cell_type": "code",
   "execution_count": 5,
   "id": "02e51122-5cf6-48b1-b1e1-82b9ee33403e",
   "metadata": {},
   "outputs": [],
   "source": [
    "#data preprocessing\n",
    "df = df.sample(frac=1, random_state=42).reset_index(drop=True)\n",
    "df.replace([np.inf, -np.inf], np.nan, inplace=True)\n",
    "df = df.dropna()\n",
    "df = df.drop_duplicates(keep='first')"
   ]
  },
  {
   "cell_type": "code",
   "execution_count": 6,
   "id": "c13d169b-ae8b-4821-bbf3-1b0d7d4d9c86",
   "metadata": {},
   "outputs": [
    {
     "data": {
      "text/plain": [
       "id                                    0\n",
       "NumDots                               0\n",
       "SubdomainLevel                        0\n",
       "PathLevel                             0\n",
       "UrlLength                             0\n",
       "NumDash                               0\n",
       "NumDashInHostname                     0\n",
       "AtSymbol                              0\n",
       "TildeSymbol                           0\n",
       "NumUnderscore                         0\n",
       "NumPercent                            0\n",
       "NumQueryComponents                    0\n",
       "NumAmpersand                          0\n",
       "NumHash                               0\n",
       "NumNumericChars                       0\n",
       "NoHttps                               0\n",
       "RandomString                          0\n",
       "IpAddress                             0\n",
       "DomainInSubdomains                    0\n",
       "DomainInPaths                         0\n",
       "HttpsInHostname                       0\n",
       "HostnameLength                        0\n",
       "PathLength                            0\n",
       "QueryLength                           0\n",
       "DoubleSlashInPath                     0\n",
       "NumSensitiveWords                     0\n",
       "EmbeddedBrandName                     0\n",
       "PctExtHyperlinks                      0\n",
       "PctExtResourceUrls                    0\n",
       "ExtFavicon                            0\n",
       "InsecureForms                         0\n",
       "RelativeFormAction                    0\n",
       "ExtFormAction                         0\n",
       "AbnormalFormAction                    0\n",
       "PctNullSelfRedirectHyperlinks         0\n",
       "FrequentDomainNameMismatch            0\n",
       "FakeLinkInStatusBar                   0\n",
       "RightClickDisabled                    0\n",
       "PopUpWindow                           0\n",
       "SubmitInfoToEmail                     0\n",
       "IframeOrFrame                         0\n",
       "MissingTitle                          0\n",
       "ImagesOnlyInForm                      0\n",
       "SubdomainLevelRT                      0\n",
       "UrlLengthRT                           0\n",
       "PctExtResourceUrlsRT                  0\n",
       "AbnormalExtFormActionR                0\n",
       "ExtMetaScriptLinkRT                   0\n",
       "PctExtNullSelfRedirectHyperlinksRT    0\n",
       "CLASS_LABEL                           0\n",
       "dtype: int64"
      ]
     },
     "execution_count": 6,
     "metadata": {},
     "output_type": "execute_result"
    }
   ],
   "source": [
    "df.isnull().sum()"
   ]
  },
  {
   "cell_type": "code",
   "execution_count": 7,
   "id": "2ae34bca-fe7b-4a0d-8dc2-74df87256eb5",
   "metadata": {},
   "outputs": [
    {
     "data": {
      "text/plain": [
       "(10000, 50)"
      ]
     },
     "execution_count": 7,
     "metadata": {},
     "output_type": "execute_result"
    }
   ],
   "source": [
    "df.shape"
   ]
  },
  {
   "cell_type": "code",
   "execution_count": 8,
   "id": "bc35e257-d273-4c53-94cb-aef4e8cf164e",
   "metadata": {},
   "outputs": [
    {
     "name": "stdout",
     "output_type": "stream",
     "text": [
      "Index(['id', 'NumDots', 'SubdomainLevel', 'PathLevel', 'UrlLength', 'NumDash',\n",
      "       'NumDashInHostname', 'AtSymbol', 'TildeSymbol', 'NumUnderscore',\n",
      "       'NumPercent', 'NumQueryComponents', 'NumAmpersand', 'NumHash',\n",
      "       'NumNumericChars', 'NoHttps', 'RandomString', 'IpAddress',\n",
      "       'DomainInSubdomains', 'DomainInPaths', 'HttpsInHostname',\n",
      "       'HostnameLength', 'PathLength', 'QueryLength', 'DoubleSlashInPath',\n",
      "       'NumSensitiveWords', 'EmbeddedBrandName', 'PctExtHyperlinks',\n",
      "       'PctExtResourceUrls', 'ExtFavicon', 'InsecureForms',\n",
      "       'RelativeFormAction', 'ExtFormAction', 'AbnormalFormAction',\n",
      "       'PctNullSelfRedirectHyperlinks', 'FrequentDomainNameMismatch',\n",
      "       'FakeLinkInStatusBar', 'RightClickDisabled', 'PopUpWindow',\n",
      "       'SubmitInfoToEmail', 'IframeOrFrame', 'MissingTitle',\n",
      "       'ImagesOnlyInForm', 'SubdomainLevelRT', 'UrlLengthRT',\n",
      "       'PctExtResourceUrlsRT', 'AbnormalExtFormActionR', 'ExtMetaScriptLinkRT',\n",
      "       'PctExtNullSelfRedirectHyperlinksRT', 'CLASS_LABEL'],\n",
      "      dtype='object')\n"
     ]
    }
   ],
   "source": [
    "print(df.columns)\n"
   ]
  },
  {
   "cell_type": "code",
   "execution_count": 9,
   "id": "07bf34d3-0258-4d5e-ae4b-66c24ed2caca",
   "metadata": {},
   "outputs": [],
   "source": [
    "# Split the data into training and testing sets\n",
    "from sklearn.decomposition import PCA\n",
    "#top_n_features=top_n_features_df['Feature'].values.tolist()\n",
    "#top_n_features.append('Label')\n",
    "#df = df[top_n_features]\n",
    "X = df.drop(columns=['CLASS_LABEL','id'])#,' Label',' Flow IAT Min',' Packet Length Std',' CWE Flag Count',' Down/Up Ratio','Fwd Avg Bytes/Bulk'])  # Replace with your feature columns\n",
    "y = df['CLASS_LABEL']   # Replace with your target column\n",
    "\n",
    "#X = X.select_dtypes(include=['number'])\n",
    "# Apply PCA to DSAE features\n",
    "#pca = PCA(n_components=20)  # Choose the number of components based on explained variance\n",
    "#X = pca.fit_transform(X)\n",
    "#X[' Protocol'] = df[' Protocol'].astype(str)\n",
    "X_train, X_test, y_train, y_test = train_test_split(X, y, test_size=0.2, random_state=42)\n",
    "\n",
    "X_train.to_csv(\"Xtrain.csv\")\n",
    "y_train.to_csv(\"ytrain.csv\")\n",
    "X_test.to_csv(\"Xtest.csv\")\n",
    "y_test.to_csv(\"ytest.csv\")\n",
    "\n",
    "\n"
   ]
  },
  {
   "cell_type": "code",
   "execution_count": 10,
   "id": "c402cb67-21ce-4dc2-a302-8990967b438f",
   "metadata": {},
   "outputs": [
    {
     "name": "stdout",
     "output_type": "stream",
     "text": [
      "[]\n"
     ]
    }
   ],
   "source": [
    "threshold = 10  # Customize this based on your data\n",
    "\n",
    "numerical_features = []\n",
    "categorical_features = []\n",
    "\n",
    "# Check the type of the problematic column\n",
    "for col in X.columns:\n",
    "    if X[col].dtype=='object':\n",
    "        categorical_features.append(col)\n",
    "print(categorical_features)"
   ]
  },
  {
   "cell_type": "code",
   "execution_count": 11,
   "id": "0a01926f-3047-46f1-a3d6-25a77bd8fa28",
   "metadata": {},
   "outputs": [
    {
     "data": {
      "image/png": "[encoded data removed]",
      "text/plain": [
       "<Figure size 1000x600 with 1 Axes>"
      ]
     },
     "metadata": {},
     "output_type": "display_data"
    }
   ],
   "source": [
    "\n",
    "# Initialize and train CatBoostClassifier\n",
    "model = CatBoostClassifier(iterations=200, depth=10, learning_rate=0.1, random_seed=42)\n",
    "model.fit(X, y, cat_features=categorical_features, verbose=0)\n",
    "\n",
    "\n",
    "# Get feature importance\n",
    "feature_importance = model.get_feature_importance()\n",
    "\n",
    "# Create a DataFrame to store feature names and their corresponding importance\n",
    "feature_importance_df = pd.DataFrame({\n",
    "    'Feature': X.columns,\n",
    "    'Importance': feature_importance\n",
    "})\n",
    "\n",
    "# Sort the DataFrame by importance in descending order\n",
    "feature_importance_df = feature_importance_df.sort_values(by='Importance', ascending=False)\n",
    "\n",
    "# Plot top 10 most important features\n",
    "top_10_features = feature_importance_df.head(10)\n",
    "\n",
    "plt.figure(figsize=(10, 6))\n",
    "plt.barh(top_10_features['Feature'], top_10_features['Importance'], color='skyblue')\n",
    "plt.xlabel('Feature Importance')\n",
    "plt.title('Top 10 Feature Importance from CatBoostClassifier')\n",
    "plt.gca().invert_yaxis()  # To display the highest importance at the top\n",
    "plt.show()\n"
   ]
  },
  {
   "cell_type": "code",
   "execution_count": 12,
   "id": "7a16c51b-419f-43d2-91f9-fc7f7f72b450",
   "metadata": {},
   "outputs": [
    {
     "data": {
      "text/html": [
       "<div>\n",
       "<style scoped>\n",
       "    .dataframe tbody tr th:only-of-type {\n",
       "        vertical-align: middle;\n",
       "    }\n",
       "\n",
       "    .dataframe tbody tr th {\n",
       "        vertical-align: top;\n",
       "    }\n",
       "\n",
       "    .dataframe thead th {\n",
       "        text-align: right;\n",
       "    }\n",
       "</style>\n",
       "<table border=\"1\" class=\"dataframe\">\n",
       "  <thead>\n",
       "    <tr style=\"text-align: right;\">\n",
       "      <th></th>\n",
       "      <th>Feature</th>\n",
       "      <th>Importance</th>\n",
       "    </tr>\n",
       "  </thead>\n",
       "  <tbody>\n",
       "    <tr>\n",
       "      <th>26</th>\n",
       "      <td>PctExtHyperlinks</td>\n",
       "      <td>14.453489</td>\n",
       "    </tr>\n",
       "    <tr>\n",
       "      <th>47</th>\n",
       "      <td>PctExtNullSelfRedirectHyperlinksRT</td>\n",
       "      <td>13.501671</td>\n",
       "    </tr>\n",
       "    <tr>\n",
       "      <th>27</th>\n",
       "      <td>PctExtResourceUrls</td>\n",
       "      <td>7.591581</td>\n",
       "    </tr>\n",
       "    <tr>\n",
       "      <th>29</th>\n",
       "      <td>InsecureForms</td>\n",
       "      <td>5.579646</td>\n",
       "    </tr>\n",
       "    <tr>\n",
       "      <th>33</th>\n",
       "      <td>PctNullSelfRedirectHyperlinks</td>\n",
       "      <td>5.304209</td>\n",
       "    </tr>\n",
       "  </tbody>\n",
       "</table>\n",
       "</div>"
      ],
      "text/plain": [
       "                               Feature  Importance\n",
       "26                    PctExtHyperlinks   14.453489\n",
       "47  PctExtNullSelfRedirectHyperlinksRT   13.501671\n",
       "27                  PctExtResourceUrls    7.591581\n",
       "29                       InsecureForms    5.579646\n",
       "33       PctNullSelfRedirectHyperlinks    5.304209"
      ]
     },
     "execution_count": 12,
     "metadata": {},
     "output_type": "execute_result"
    }
   ],
   "source": [
    "top_10_features.head()"
   ]
  },
  {
   "cell_type": "code",
   "execution_count": 13,
   "id": "7d9bfd58-6ba0-4ef1-b818-1fe6b55642a4",
   "metadata": {},
   "outputs": [
    {
     "name": "stdout",
     "output_type": "stream",
     "text": [
      "train time is  0:00:03.765105\n",
      "test time is  0:00:00.089011\n"
     ]
    }
   ],
   "source": [
    "from catboost import CatBoostClassifier\n",
    "import time\n",
    "from datetime import timedelta\n",
    "time1=time.time()\n",
    "model = CatBoostClassifier(iterations=200, depth=10, learning_rate=0.05, random_seed=42)\n",
    "model.fit(X_train, y_train, cat_features=categorical_features, verbose=0)\n",
    "time2=time.time()\n",
    "\n",
    "y_pred = model.predict(X_test)\n",
    "time3=time.time()\n",
    "train_time = time2-time1 \n",
    "test_time = time3-time2 \n",
    "print(\"train time is \" ,str(timedelta(seconds=(train_time))))\n",
    "print(\"test time is \" ,str(timedelta(seconds=(test_time))))"
   ]
  },
  {
   "cell_type": "code",
   "execution_count": 14,
   "id": "1df6f70c-c565-4a95-a200-5f3ea52a289b",
   "metadata": {},
   "outputs": [
    {
     "data": {
      "image/png": "[encoded data removed]",
      "text/plain": [
       "<Figure size 800x600 with 2 Axes>"
      ]
     },
     "metadata": {},
     "output_type": "display_data"
    }
   ],
   "source": [
    "# Plot confusion matrix\n",
    "cm = confusion_matrix(y_test, y_pred)\n",
    "classes=list(set(y_test))\n",
    "plt.figure(figsize=(8, 6))\n",
    "sns.heatmap(cm, annot=True, fmt=\"d\", cmap=\"Blues\", xticklabels=classes, yticklabels=classes)\n",
    "\n",
    "plt.xlabel('Predicted')\n",
    "plt.ylabel('True')\n",
    "plt.title('Confusion Matrix')\n",
    "plt.show()\n"
   ]
  },
  {
   "cell_type": "code",
   "execution_count": 15,
   "id": "dbc718ad-5567-436f-ab5e-5d9412ebf8ac",
   "metadata": {},
   "outputs": [
    {
     "name": "stdout",
     "output_type": "stream",
     "text": [
      "              precision    recall  f1-score   support\n",
      "\n",
      "           0       0.98      0.98      0.98       987\n",
      "           1       0.99      0.98      0.98      1013\n",
      "\n",
      "    accuracy                           0.98      2000\n",
      "   macro avg       0.98      0.98      0.98      2000\n",
      "weighted avg       0.98      0.98      0.98      2000\n",
      "\n"
     ]
    }
   ],
   "source": [
    "from sklearn.metrics import classification_report\n",
    "# Generate and print the classification report\n",
    "report = classification_report(y_test, y_pred)\n",
    "print(report)\n"
   ]
  },
  {
   "cell_type": "code",
   "execution_count": 16,
   "id": "a6fe7f45-abae-400d-a2e6-bd863719f59d",
   "metadata": {},
   "outputs": [
    {
     "name": "stdout",
     "output_type": "stream",
     "text": [
      "Accuracy: 0.984000\n",
      "Precision: 0.983987\n",
      "Recall: 0.984010\n",
      "F1-Score: 0.983998\n"
     ]
    }
   ],
   "source": [
    "from sklearn.metrics import accuracy_score, precision_score, recall_score, f1_score\n",
    "\n",
    "\n",
    "# Calculate Accuracy, Precision, Recall, and F1-Score\n",
    "accuracy = accuracy_score(y_test, y_pred)\n",
    "precision = precision_score(y_test, y_pred,average='macro')\n",
    "recall = recall_score(y_test, y_pred,average='macro')\n",
    "f1 = f1_score(y_test, y_pred,average='macro')\n",
    "\n",
    "# Display the results\n",
    "print(f\"Accuracy: {accuracy:.6f}\")\n",
    "print(f\"Precision: {precision:.6f}\")\n",
    "print(f\"Recall: {recall:.6f}\")\n",
    "print(f\"F1-Score: {f1:.6f}\")\n"
   ]
  },
  {
   "cell_type": "code",
   "execution_count": null,
   "id": "7250dd15-e7ad-41da-8722-cba89a0b38db",
   "metadata": {},
   "outputs": [],
   "source": []
  },
  {
   "cell_type": "code",
   "execution_count": null,
   "id": "b67e128a",
   "metadata": {},
   "outputs": [],
   "source": []
  }
 ],
 "metadata": {
  "kernelspec": {
   "display_name": "Python [conda env:base] *",
   "language": "python",
   "name": "conda-base-py"
  },
  "language_info": {
   "codemirror_mode": {
    "name": "ipython",
    "version": 3
   },
   "file_extension": ".py",
   "mimetype": "text/x-python",
   "name": "python",
   "nbconvert_exporter": "python",
   "pygments_lexer": "ipython3",
   "version": "3.12.7"
  }
 },
 "nbformat": 4,
 "nbformat_minor": 5
}
